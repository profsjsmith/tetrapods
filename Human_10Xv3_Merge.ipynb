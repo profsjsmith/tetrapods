{
 "cells": [
  {
   "cell_type": "code",
   "execution_count": 1,
   "id": "388d075c",
   "metadata": {},
   "outputs": [],
   "source": [
    "# Modified from Rohan Gala 1 June 2021\n",
    "\n",
    "import numpy as np\n",
    "import pandas as pd\n",
    "\n",
    "genes = \"GPCRs\"\n",
    "path = \"/Users/stephens/Desktop/COiN Peptidergic Architectures/Human/10Xv3/\"\n",
    "anno = pd.read_csv(path + \"Human_10Xv3_annos.csv\")\n",
    "data = pd.read_csv(path + \"Human_10Xv3_\" + genes + \"_matrix.csv\")\n"
   ]
  },
  {
   "cell_type": "code",
   "execution_count": 2,
   "id": "e62cecd0",
   "metadata": {},
   "outputs": [],
   "source": [
    "# make sure samples line up\n",
    "assert np.array_equal(anno['sample_name'].values,data['sample_name']),'sample order mismatch'\n"
   ]
  },
  {
   "cell_type": "code",
   "execution_count": 3,
   "id": "24de116b",
   "metadata": {},
   "outputs": [],
   "source": [
    "# merge anno and data\n",
    "X = anno.merge(data, how='left', left_on='sample_name', right_on='sample_name')\n",
    "X.to_csv(path + \"Human_10Xv3_\" + genes + \"_counts.csv\",index=False)"
   ]
  },
  {
   "cell_type": "code",
   "execution_count": null,
   "id": "6dd87707",
   "metadata": {},
   "outputs": [],
   "source": []
  }
 ],
 "metadata": {
  "kernelspec": {
   "display_name": "Python 3",
   "language": "python",
   "name": "python3"
  },
  "language_info": {
   "codemirror_mode": {
    "name": "ipython",
    "version": 3
   },
   "file_extension": ".py",
   "mimetype": "text/x-python",
   "name": "python",
   "nbconvert_exporter": "python",
   "pygments_lexer": "ipython3",
   "version": "3.8.8"
  }
 },
 "nbformat": 4,
 "nbformat_minor": 5
}
