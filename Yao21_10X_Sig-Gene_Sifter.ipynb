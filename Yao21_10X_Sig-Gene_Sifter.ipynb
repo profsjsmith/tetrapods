{
 "cells": [
  {
   "cell_type": "code",
   "execution_count": null,
   "metadata": {},
   "outputs": [],
   "source": [
    "# Initialize\n",
    "import pandas as pd\n",
    "import numpy as np\n",
    "import dask\n",
    "import dask.dataframe as dd\n",
    "from dask.distributed import Client\n",
    "\n",
    "metaFileStr = \"/Users/stephens/Large_CSVs/Mouse/Yao21_10X_Metadata.csv\"\n",
    "countFileStr = \"/Users/stephens/Large_CSVs/Mouse/Yao21_10X_Counts.csv\"\n",
    "\n",
    "# Metadata Sifter to concentrate essential items\n",
    "metaSifterTuple = \"sample_name\",\"cluster_order\",\"cluster_label\",\"class_order\",\"class_label\",\"subclass_order\",\"subclass_label\",\"region_id\",\"region_label\",\"neighborhood_label\",\"neighborhood_id\",\"cell_type_accession_id\"\n",
    "# Gene Sifter, prepending \"sample_name\" to check fidelity of metadata concatenation\n",
    "geneSifterTuple = \"sample_name\",\"Aatk\",\"Ablim1\",\"Acadm\",\"Ache\",\"Ackr1\",\"Ackr2\",\"Ackr3\",\"Ackr4\",\"Aco2\",\"Acvr1\",\"Acvr1b\",\"Acvr1c\",\"Acvr2a\",\"Acvr2b\",\"Acvrl1\",\"Adam22\",\"Adcy1\",\"Adcy10\",\"Adcy2\",\"Adcy3\",\"Adcy4\",\"Adcy5\",\"Adcy6\",\"Adcy7\",\"Adcy8\",\"Adcy9\",\"Adcyap1\",\"Adcyap1r1\",\"Adgra1\",\"Adgra2\",\"Adgra3\",\"Adgrb1\",\"Adgrb2\",\"Adgrb3\",\"Adgrd1\",\"Adgre1\",\"Adgre4\",\"Adgre5\",\"Adgrf1\",\"Adgrf2\",\"Adgrf3\",\"Adgrf4\",\"Adgrf5\",\"Adgrg1\",\"Adgrg2\",\"Adgrg3\",\"Adgrg4\",\"Adgrg5\",\"Adgrg6\",\"Adgrg7\",\"Adgrl1\",\"Adgrl2\",\"Adgrl3\",\"Adgrl4\",\"Adgrv1\",\"Adipoq\",\"Adm\",\"Adm2\",\"Adora1\",\"Adora2a\",\"Adora2b\",\"Adora3\",\"Adra1a\",\"Adra1b\",\"Adra1d\",\"Adra2a\",\"Adra2b\",\"Adra2c\",\"Adrb1\",\"Adrb2\",\"Adrb3\",\"Agrp\",\"Agt\",\"Agtr1a\",\"Agtr1b\",\"Agtr2\",\"Aldoc\",\"Alk\",\"Amhr2\",\"Anks1b\",\"Ano1\",\"Apln\",\"Aplnr\",\"Aqp1\",\"Aqp11\",\"Aqp2\",\"Aqp3\",\"Aqp4\",\"Aqp5\",\"Aqp6\",\"Aqp7\",\"Aqp8\",\"Aqp9\",\"Arc\",\"Arf1\",\"Arf5\",\"Arl13b\",\"Arl3\",\"Arpc4\",\"Arrb1\",\"Arrb2\",\"Asic1\",\"Asic2\",\"Asic3\",\"Atp1a1\",\"Atp1a3\",\"Atp1a4\",\"Atp1b1\",\"Atp5c1\",\"Atp6v0d1\",\"Avp\",\"Avpr1a\",\"Avpr1b\",\"Avpr2\",\"Axl\",\"Baiap2\",\"Bdkrb1\",\"Bdkrb2\",\"Bdnf\",\"Begain\",\"Bmp15\",\"Bmp4\",\"Bmpr1a\",\"Bmpr1b\",\"Bmpr2\",\"Brs3\",\"C1qa\",\"C3ar1\",\"C5ar1\",\"C5ar2\",\"Cacna1a\",\"Cacna1b\",\"Cacna1c\",\"Cacna1d\",\"Cacna1e\",\"Cacna1f\",\"Cacna1g\",\"Cacna1h\",\"Cacna1i\",\"Cacna1s\",\"Cacna2d1\",\"Cacna2d2\",\"Cacna2d3\",\"Cacna2d4\",\"Cacng2\",\"Calb1\",\"Calb2\",\"Calca\",\"Calcb\",\"Calcr\",\"Calcrl\",\"Calm1\",\"Calm2\",\"Calm3\",\"Camk1\",\"Camk1d\",\"Camk1g\",\"Camk2a\",\"Camk2b\",\"Camk2d\",\"Camk2g\",\"Camk4\",\"Camkk1\",\"Camkk2\",\"Camkv\",\"Capn1\",\"Capn10\",\"Capn11\",\"Capn12\",\"Capn13\",\"Capn15\",\"Capn2\",\"Capn3\",\"Capn5\",\"Capn6\",\"Capn7\",\"Capn8\",\"Capn9\",\"Capza2\",\"Cartpt\",\"Casr\",\"Catsper1\",\"Catsper2\",\"Catsper3\",\"Catsper4\",\"Cavin2\",\"Cavin3\",\"Cbln1\",\"Cbln2\",\"Cbln3\",\"Cbln4\",\"Cck\",\"Cckar\",\"Cckbr\",\"Ccr1\",\"Ccr10\",\"Ccr2\",\"Ccr3\",\"Ccr4\",\"Ccr5\",\"Ccr6\",\"Ccr7\",\"Ccr8\",\"Ccr9\",\"Ccrl2\",\"Cd27\",\"Cd40\",\"Celsr1\",\"Celsr2\",\"Celsr3\",\"Cftr\",\"Chat\",\"Chga\",\"Chgb\",\"Chrm1\",\"Chrm2\",\"Chrm3\",\"Chrm4\",\"Chrm5\",\"Chrna1\",\"Chrna10\",\"Chrna2\",\"Chrna3\",\"Chrna4\",\"Chrna5\",\"Chrna6\",\"Chrna7\",\"Chrna9\",\"Chrnb1\",\"Chrnb2\",\"Chrnb3\",\"Chrnb4\",\"Chrnd\",\"Chrne\",\"Chrng\",\"Ciita\",\"Clcn1\",\"Clcn2\",\"Clcn3\",\"Clcn5\",\"Clcn6\",\"Clcn7\",\"Clcnka\",\"Clcnkb\",\"Cmklr1\",\"Cnga1\",\"Cnga2\",\"Cnga3\",\"Cnga4\",\"Cngb1\",\"Cngb3\",\"Cnr1\",\"Cnr2\",\"Cntfr\",\"Cort\",\"Creb1\",\"Creb3\",\"Creb5\",\"Crh\",\"Crhr1\",\"Crhr2\",\"Crlf2\",\"Crmp1\",\"Crym\",\"Csf1r\",\"Csf2ra\",\"Csf2rb\",\"Csf3r\",\"Csk\",\"Cx3cr1\",\"Cxcl14\",\"Cxcr1\",\"Cxcr2\",\"Cxcr3\",\"Cxcr4\",\"Cxcr5\",\"Cxcr6\",\"Cyfip1\",\"Cysltr1\",\"Cysltr2\",\"Dbh\",\"Dbi\",\"Ddc\",\"Ddr1\",\"Ddr2\",\"Ddx58\",\"Dhx58\",\"Dlg1\",\"Dlg2\",\"Dlg3\",\"Dlg4\",\"Dlg5\",\"Dlgap1\",\"Dlgap2\",\"Dlgap4\",\"Dnm1\",\"Dpysl2\",\"Drd1\",\"Drd2\",\"Drd3\",\"Drd4\",\"Drd5\",\"Dusp12\",\"Eda2r\",\"Edar\",\"Edn1\",\"Edn2\",\"Edn3\",\"Ednra\",\"Ednrb\",\"Egfr\",\"Egr1\",\"Egr2\",\"Egr3\",\"Egr4\",\"Epha1\",\"Epha10\",\"Epha2\",\"Epha3\",\"Epha4\",\"Epha5\",\"Epha6\",\"Epha7\",\"Epha8\",\"Ephb1\",\"Ephb2\",\"Ephb3\",\"Ephb4\",\"Ephb6\",\"Epor\",\"Erbb2\",\"Erbb3\",\"Erbb4\",\"Evi5l\",\"F2r\",\"F2rl1\",\"F2rl2\",\"F2rl3\",\"Fam81a\",\"Fas\",\"Ffar2\",\"Ffar3\",\"Ffar4\",\"Fgfr1\",\"Fgfr2\",\"Fgfr3\",\"Fgfr4\",\"Flt1\",\"Flt3\",\"Flt4\",\"Fos\",\"Fosb\",\"Fpr1\",\"Fpr2\",\"Fshr\",\"Fzd1\",\"Fzd10\",\"Fzd2\",\"Fzd3\",\"Fzd4\",\"Fzd5\",\"Fzd6\",\"Fzd7\",\"Fzd8\",\"Fzd9\",\"Gabbr1\",\"Gabbr2\",\"Gabra1\",\"Gabra2\",\"Gabra3\",\"Gabra4\",\"Gabra5\",\"Gabra6\",\"Gabrb1\",\"Gabrb2\",\"Gabrb3\",\"Gabrd\",\"Gabre\",\"Gabrg1\",\"Gabrg2\",\"Gabrg3\",\"Gabrp\",\"Gabrq\",\"Gabrr1\",\"Gabrr2\",\"Gabrr3\",\"Gad1\",\"Gad2\",\"Gal\",\"Galp\",\"Galr1\",\"Galr2\",\"Galr3\",\"Gapdh\",\"Gast\",\"Gcg\",\"Gcgr\",\"Gfra1\",\"Gfra2\",\"Gfra3\",\"Gfra4\",\"Gfral\",\"Ghr\",\"Ghrh\",\"Ghrhr\",\"Ghrl\",\"Ghsr\",\"Gip\",\"Gipr\",\"Gja1\",\"Gja10\",\"Gja3\",\"Gja4\",\"Gja5\",\"Gja8\",\"Gjb1\",\"Gjb2\",\"Gjb3\",\"Gjb4\",\"Gjb5\",\"Gjb6\",\"Gjc1\",\"Gjc2\",\"Gjc3\",\"Gjd2\",\"Gjd3\",\"Gjd4\",\"Gje1\",\"Glp1r\",\"Glp2r\",\"Glra1\",\"Glra2\",\"Glra3\",\"Glra4\",\"Glrb\",\"Glud1\",\"Glul\",\"Gna11\",\"Gna12\",\"Gna13\",\"Gna14\",\"Gna15\",\"Gnai1\",\"Gnai2\",\"Gnai3\",\"Gnal\",\"Gnao1\",\"Gnaq\",\"Gnas\",\"Gnb1\",\"Gnb2\",\"Gnb3\",\"Gnb4\",\"Gnb5\",\"Gng10\",\"Gng11\",\"Gng12\",\"Gng2\",\"Gng3\",\"Gng4\",\"Gng5\",\"Gng7\",\"Gng8\",\"Gnrh1\",\"Gnrhr\",\"Gpbar1\",\"Gper1\",\"Gphn\",\"Gpr1\",\"Gpr101\",\"Gpr107\",\"Gpr119\",\"Gpr12\",\"Gpr132\",\"Gpr135\",\"Gpr137\",\"Gpr139\",\"Gpr141\",\"Gpr142\",\"Gpr143\",\"Gpr146\",\"Gpr149\",\"Gpr15\",\"Gpr150\",\"Gpr151\",\"Gpr152\",\"Gpr153\",\"Gpr156\",\"Gpr157\",\"Gpr158\",\"Gpr160\",\"Gpr161\",\"Gpr162\",\"Gpr17\",\"Gpr171\",\"Gpr173\",\"Gpr174\",\"Gpr176\",\"Gpr179\",\"Gpr18\",\"Gpr182\",\"Gpr183\",\"Gpr19\",\"Gpr20\",\"Gpr21\",\"Gpr22\",\"Gpr25\",\"Gpr26\",\"Gpr27\",\"Gpr3\",\"Gpr33\",\"Gpr34\",\"Gpr35\",\"Gpr37\",\"Gpr37l1\",\"Gpr39\",\"Gpr4\",\"Gpr45\",\"Gpr50\",\"Gpr55\",\"Gpr6\",\"Gpr61\",\"Gpr62\",\"Gpr63\",\"Gpr65\",\"Gpr68\",\"Gpr75\",\"Gpr82\",\"Gpr83\",\"Gpr84\",\"Gpr85\",\"Gpr87\",\"Gpr88\",\"Gprc5a\",\"Gprc5b\",\"Gprc5c\",\"Gprc5d\",\"Gprc6a\",\"Gria1\",\"Gria2\",\"Gria3\",\"Gria4\",\"Grid1\",\"Grid2\",\"Grik1\",\"Grik2\",\"Grik3\",\"Grik4\",\"Grik5\",\"Grin1\",\"Grin2a\",\"Grin2b\",\"Grin2c\",\"Grin2d\",\"Grin3a\",\"Grin3b\",\"Grk2\",\"Grk3\",\"Grk5\",\"Grm1\",\"Grm2\",\"Grm3\",\"Grm4\",\"Grm5\",\"Grm6\",\"Grm7\",\"Grm8\",\"Grp\",\"Grpr\",\"Gsn\",\"Gucy1a2\",\"Gucy1b2\",\"Gucy2c\",\"Gucy2d\",\"Gucy2e\",\"Gucy2f\",\"Gucy2g\",\"Hcar1\",\"Hcar2\",\"Hcn1\",\"Hcn2\",\"Hcn3\",\"Hcn4\",\"Hcrt\",\"Hcrtr1\",\"Hcrtr2\",\"Hdc\",\"Homer1\",\"Homer2\",\"Homer3\",\"Hrh1\",\"Hrh2\",\"Hrh3\",\"Hrh4\",\"Hspa8\",\"Htr1a\",\"Htr1b\",\"Htr1d\",\"Htr1f\",\"Htr2a\",\"Htr2b\",\"Htr2c\",\"Htr3a\",\"Htr3b\",\"Htr4\",\"Htr5a\",\"Htr5b\",\"Htr6\",\"Htr7\",\"Hvcn1\",\"Iapp\",\"Ifih1\",\"Ifnar1\",\"Ifnar2\",\"Ifngr1\",\"Ifngr2\",\"Ifnlr1\",\"Igf1\",\"Igf1r\",\"Igf2\",\"Il10\",\"Il10ra\",\"Il10rb\",\"Il11\",\"Il11ra1\",\"Il11ra2\",\"Il12a\",\"Il12b\",\"Il12rb1\",\"Il12rb2\",\"Il13\",\"Il13ra1\",\"Il13ra2\",\"Il15\",\"Il15ra\",\"Il16\",\"Il17a\",\"Il17b\",\"Il17c\",\"Il17d\",\"Il17f\",\"Il17ra\",\"Il17rb\",\"Il17rc\",\"Il17rd\",\"Il17re\",\"Il18\",\"Il18bp\",\"Il18r1\",\"Il18rap\",\"Il19\",\"Il1a\",\"Il1b\",\"Il1r1\",\"Il1r2\",\"Il1rl1\",\"Il1rl2\",\"Il20ra\",\"Il20rb\",\"Il21r\",\"Il22ra1\",\"Il22ra2\",\"Il23r\",\"Il27ra\",\"Il2ra\",\"Il2rb\",\"Il2rg\",\"Il31ra\",\"Il3ra\",\"Il4ra\",\"Il5\",\"Il5ra\",\"Il6\",\"Il6ra\",\"Il6st\",\"Il7r\",\"Il9r\",\"Inhba\",\"Ins2\",\"Insr\",\"Insrr\",\"Iqsec1\",\"Iqsec2\",\"Itga1\",\"Itga10\",\"Itga11\",\"Itga2\",\"Itga2b\",\"Itga3\",\"Itga4\",\"Itga5\",\"Itga6\",\"Itga7\",\"Itga8\",\"Itga9\",\"Itgad\",\"Itgae\",\"Itgal\",\"Itgam\",\"Itgav\",\"Itgax\",\"Itgb1\",\"Itgb2\",\"Itgb3\",\"Itgb4\",\"Itgb5\",\"Itgb6\",\"Itgb7\",\"Itgb8\",\"Itpr1\",\"Itpr2\",\"Itpr3\",\"Jak1\",\"Jak2\",\"Jak3\",\"Jun\",\"Junb\",\"Kcna1\",\"Kcna10\",\"Kcna2\",\"Kcna3\",\"Kcna4\",\"Kcna5\",\"Kcna6\",\"Kcna7\",\"Kcnb1\",\"Kcnb2\",\"Kcnc1\",\"Kcnc2\",\"Kcnc3\",\"Kcnc4\",\"Kcnd1\",\"Kcnd2\",\"Kcnd3\",\"Kcnf1\",\"Kcng1\",\"Kcng2\",\"Kcng3\",\"Kcng4\",\"Kcnh1\",\"Kcnh2\",\"Kcnh3\",\"Kcnh4\",\"Kcnh5\",\"Kcnh6\",\"Kcnh7\",\"Kcnh8\",\"Kcnj1\",\"Kcnj10\",\"Kcnj11\",\"Kcnj12\",\"Kcnj13\",\"Kcnj14\",\"Kcnj15\",\"Kcnj16\",\"Kcnj2\",\"Kcnj3\",\"Kcnj4\",\"Kcnj5\",\"Kcnj6\",\"Kcnj8\",\"Kcnj9\",\"Kcnk1\",\"Kcnk10\",\"Kcnk12\",\"Kcnk13\",\"Kcnk15\",\"Kcnk16\",\"Kcnk18\",\"Kcnk2\",\"Kcnk3\",\"Kcnk4\",\"Kcnk5\",\"Kcnk6\",\"Kcnk7\",\"Kcnk9\",\"Kcnma1\",\"Kcnn1\",\"Kcnn2\",\"Kcnn3\",\"Kcnn4\",\"Kcnq1\",\"Kcnq2\",\"Kcnq3\",\"Kcnq4\",\"Kcnq5\",\"Kcns1\",\"Kcns2\",\"Kcns3\",\"Kcnt1\",\"Kcnt2\",\"Kcnu1\",\"Kcnv1\",\"Kcnv2\",\"Kdr\",\"Kiss1\",\"Kiss1r\",\"Kit\",\"Kng1\",\"Ldha\",\"Lep\",\"Lepr\",\"Lgi1\",\"Lgr4\",\"Lgr5\",\"Lgr6\",\"Lhcgr\",\"Lifr\",\"Lin7a\",\"Lmtk2\",\"Lmtk3\",\"Lmx1a\",\"Lpar1\",\"Lpar2\",\"Lpar3\",\"Lpar4\",\"Lpar5\",\"Lpar6\",\"Ltb4r1\",\"Ltb4r2\",\"Ltbr\",\"Ltk\",\"Mapk1\",\"Mapk3\",\"Mas1\",\"Mbl2\",\"Mbp\",\"Mc1r\",\"Mc2r\",\"Mc3r\",\"Mc4r\",\"Mc5r\",\"Mchr1\",\"Mcoln1\",\"Mcoln2\",\"Mcoln3\",\"Mertk\",\"Met\",\"Mip\",\"Mog\",\"Mpl\",\"Mrgprd\",\"Mrgpre\",\"Mrgprf\",\"Mrgprg\",\"Mst1r\",\"Mtnr1a\",\"Mtnr1b\",\"Musk\",\"Myc\",\"Nalcn\",\"Nefl\",\"Ngf\",\"Ngfr\",\"Nlrc3\",\"Nlrc4\",\"Nlrc5\",\"Nlrp10\",\"Nlrp12\",\"Nlrp14\",\"Nlrp1a\",\"Nlrp2\",\"Nlrp3\",\"Nlrp4e\",\"Nlrp5\",\"Nlrp6\",\"Nlrp9b\",\"Nlrx1\",\"Nmb\",\"Nmbr\",\"Nms\",\"Nmu\",\"Nmur1\",\"Nmur2\",\"Nod1\",\"Nod2\",\"Nol3\",\"Nos1\",\"Nos2\",\"Nos3\",\"Npb\",\"Npbwr1\",\"Npff\",\"Npffr1\",\"Npffr2\",\"Nppa\",\"Nppb\",\"Nppc\",\"Npr1\",\"Npr2\",\"Npr3\",\"Nps\",\"Npsr1\",\"Nptx2\",\"Npvf\",\"Npw\",\"Npy\",\"Npy1r\",\"Npy2r\",\"Npy4r\",\"Npy5r\",\"Npy6r\",\"Nr4a1\",\"Nrn1\",\"Nrxn1\",\"Nsf\",\"Ntf3\",\"Ntf5\",\"Ntrk1\",\"Ntrk2\",\"Ntrk3\",\"Nts\",\"Ntsr1\",\"Ntsr2\",\"Nucb2\",\"Nxph1\",\"Nxph2\",\"Nxph3\",\"Nxph4\",\"Opn1mw\",\"Opn1sw\",\"Opn3\",\"Opn4\",\"Opn5\",\"Oprd1\",\"Oprk1\",\"Oprl1\",\"Oprm1\",\"Orai1\",\"Orai2\",\"Orai3\",\"Osmr\",\"Oxgr1\",\"Oxt\",\"Oxtr\",\"P2rx1\",\"P2rx2\",\"P2rx3\",\"P2rx4\",\"P2rx5\",\"P2rx6\",\"P2rx7\",\"P2ry1\",\"P2ry10\",\"P2ry12\",\"P2ry13\",\"P2ry14\",\"P2ry2\",\"P2ry4\",\"P2ry6\",\"Panx1\",\"Panx2\",\"Panx3\",\"Pcdh8\",\"Pde10a\",\"Pde11a\",\"Pde12\",\"Pde1a\",\"Pde1b\",\"Pde1c\",\"Pde2a\",\"Pde3a\",\"Pde3b\",\"Pde4a\",\"Pde4b\",\"Pde4c\",\"Pde4d\",\"Pde5a\",\"Pde6a\",\"Pde6b\",\"Pde6c\",\"Pde6d\",\"Pde6g\",\"Pde6h\",\"Pde7a\",\"Pde7b\",\"Pde8a\",\"Pde8b\",\"Pde9a\",\"Pdgfra\",\"Pdgfrb\",\"Pdyn\",\"Penk\",\"Pick1\",\"Piezo1\",\"Piezo2\",\"Pkd2\",\"Pkd2l1\",\"Pkd2l2\",\"Pkia\",\"Pkm\",\"Plat\",\"Plcb1\",\"Plcb2\",\"Plcb3\",\"Plcb4\",\"Plcd1\",\"Plcd3\",\"Plcd4\",\"Plce1\",\"Plcg1\",\"Plcg2\",\"Plch1\",\"Plch2\",\"Plcl1\",\"Plcl2\",\"Plcz1\",\"Plk2\",\"Plp1\",\"Pmch\",\"Pnmt\",\"Pnoc\",\"Pomc\",\"Ppp1r1b\",\"Ppp2ca\",\"Ppp3ca\",\"Ppp3r1\",\"Ppy\",\"Prdx1\",\"Prdx2\",\"Prdx5\",\"Prdx6\",\"Prg2\",\"Prkab2\",\"Prkaca\",\"Prkacb\",\"Prkar1a\",\"Prkar1b\",\"Prkar2a\",\"Prkar2b\",\"Prkca\",\"Prkcb\",\"Prkcd\",\"Prkce\",\"Prkcg\",\"Prkch\",\"Prkci\",\"Prkcq\",\"Prkcsh\",\"Prkcz\",\"Prkx\",\"Prl\",\"Prlh\",\"Prlhr\",\"Prlr\",\"Prokr1\",\"Prokr2\",\"Ptafr\",\"Ptgdr\",\"Ptgdr2\",\"Ptger1\",\"Ptger2\",\"Ptger3\",\"Ptger4\",\"Ptgfr\",\"Ptgir\",\"Ptgs2\",\"Pth1r\",\"Pth2r\",\"Pthlh\",\"Ptk7\",\"Ptpra\",\"Ptprb\",\"Ptprc\",\"Ptprd\",\"Ptpre\",\"Ptprf\",\"Ptprg\",\"Ptprh\",\"Ptprj\",\"Ptprk\",\"Ptprm\",\"Ptprn\",\"Ptprn2\",\"Ptpro\",\"Ptprq\",\"Ptprr\",\"Ptprs\",\"Ptprt\",\"Ptpru\",\"Ptprz1\",\"Pvalb\",\"Pyy\",\"Qrfpr\",\"Rab23\",\"Rab6a\",\"Rab8a\",\"Rab8b\",\"Rabl2\",\"Rac1\",\"Ramp1\",\"Ramp2\",\"Ramp3\",\"Rap2a\",\"Relt\",\"Ret\",\"Retn\",\"Retnlb\",\"Rgs1\",\"Rgs10\",\"Rgs11\",\"Rgs12\",\"Rgs13\",\"Rgs14\",\"Rgs16\",\"Rgs17\",\"Rgs18\",\"Rgs19\",\"Rgs2\",\"Rgs20\",\"Rgs21\",\"Rgs22\",\"Rgs3\",\"Rgs4\",\"Rgs5\",\"Rgs6\",\"Rgs7\",\"Rgs7bp\",\"Rgs8\",\"Rgs9\",\"Rgs9bp\",\"Rheb\",\"Rho\",\"Riiad1\",\"Rln1\",\"Rln3\",\"Ror1\",\"Ror2\",\"Ros1\",\"Rtn1\",\"Rxfp1\",\"Rxfp2\",\"Rxfp3\",\"Rxfp4\",\"Ryk\",\"Ryr1\",\"Ryr2\",\"Ryr3\",\"S1pr1\",\"S1pr2\",\"S1pr3\",\"S1pr4\",\"S1pr5\",\"Scg2\",\"Scg3\",\"Scg5\",\"Scn10a\",\"Scn11a\",\"Scn1a\",\"Scn2a\",\"Scn3a\",\"Scn4a\",\"Scn5a\",\"Scn8a\",\"Scn9a\",\"Scnn1a\",\"Scnn1b\",\"Scnn1g\",\"Sct\",\"Sctr\",\"Sema5b\",\"Serpinb2\",\"Sfxn3\",\"Shank1\",\"Shank2\",\"Shank3\",\"Sigirr\",\"Slc17a6\",\"Slc17a7\",\"Slc17a8\",\"Slc17a9\",\"Slc18a1\",\"Slc18a2\",\"Slc18a3\",\"Slc18b1\",\"Slc25a22\",\"Slc25a3\",\"Slc25a4\",\"Slc25a5\",\"Slc29a1\",\"Slc29a2\",\"Slc29a3\",\"Slc29a4\",\"Slc32a1\",\"Slc6a1\",\"Slc6a11\",\"Slc6a12\",\"Slc6a13\",\"Slc6a14\",\"Slc6a15\",\"Slc6a16\",\"Slc6a17\",\"Slc6a18\",\"Slc6a19\",\"Slc6a2\",\"Slc6a20a\",\"Slc6a20b\",\"Slc6a3\",\"Slc6a4\",\"Slc6a5\",\"Slc6a6\",\"Slc6a7\",\"Slc6a8\",\"Slc6a9\",\"Smo\",\"Snx27\",\"Src\",\"Sst\",\"Sstr1\",\"Sstr2\",\"Sstr3\",\"Sstr4\",\"Sstr5\",\"Stard5\",\"Stra6\",\"Stx1b\",\"Stxbp1\",\"Styk1\",\"Sucnr1\",\"Syn1\",\"Syn2\",\"Syn3\",\"Syngap1\",\"Taar1\",\"Taar2\",\"Taar3\",\"Taar4\",\"Taar5\",\"Tac1\",\"Tac2\",\"Tacr1\",\"Tacr2\",\"Tacr3\",\"Tbxa2r\",\"Tek\",\"Tgfbr1\",\"Tgfbr2\",\"Tgfbr3\",\"Th\",\"Thy1\",\"Tie1\",\"Tlr1\",\"Tlr11\",\"Tlr2\",\"Tlr3\",\"Tlr4\",\"Tlr5\",\"Tlr6\",\"Tlr7\",\"Tlr8\",\"Tlr9\",\"Tnf\",\"Tnfrsf10b\",\"Tnfrsf11a\",\"Tnfrsf11b\",\"Tnfrsf12a\",\"Tnfrsf13b\",\"Tnfrsf13c\",\"Tnfrsf14\",\"Tnfrsf17\",\"Tnfrsf18\",\"Tnfrsf19\",\"Tnfrsf1a\",\"Tnfrsf1b\",\"Tnfrsf21\",\"Tnfrsf22\",\"Tnfrsf23\",\"Tnfrsf25\",\"Tnfrsf26\",\"Tnfrsf4\",\"Tnfrsf8\",\"Tnfrsf9\",\"Tpcn1\",\"Tpcn2\",\"Tph1\",\"Tph2\",\"Tpra1\",\"Trh\",\"Trhr\",\"Trhr2\",\"Trpa1\",\"Trpc1\",\"Trpc3\",\"Trpc4\",\"Trpc5\",\"Trpc6\",\"Trpc7\",\"Trpm1\",\"Trpm2\",\"Trpm3\",\"Trpm4\",\"Trpm5\",\"Trpm6\",\"Trpm7\",\"Trpm8\",\"Trpv1\",\"Trpv2\",\"Trpv3\",\"Trpv4\",\"Trpv5\",\"Trpv6\",\"Tshr\",\"Tub\",\"Tuba1a\",\"Tubb6\",\"Tulp1\",\"Tulp2\",\"Tulp3\",\"Tulp4\",\"Tyro3\",\"Ubl5\",\"Ucn\",\"Ucn2\",\"Ucn3\",\"Unc119\",\"Uts2\",\"Uts2b\",\"Uts2r\",\"Vamp2\",\"Vdac1\",\"Vdac2\",\"Vgf\",\"Vip\",\"Vipr1\",\"Vipr2\",\"Xcr1\""
   ]
  },
  {
   "cell_type": "code",
   "execution_count": null,
   "metadata": {},
   "outputs": [],
   "source": [
    "metaList = ['sample_name',\n",
    " 'cluster_order',\n",
    " 'cluster_label',\n",
    " 'class_order',\n",
    " 'class_label',\n",
    " 'subclass_order',\n",
    " 'subclass_label',\n",
    " 'region_id',\n",
    " 'region_label',\n",
    " 'neighborhood_label',\n",
    " 'neighborhood_id']"
   ]
  },
  {
   "cell_type": "code",
   "execution_count": null,
   "metadata": {},
   "outputs": [],
   "source": [
    "client = Client()  # start distributed scheduler locally.  Launch dashboard\n",
    "client"
   ]
  },
  {
   "cell_type": "code",
   "execution_count": null,
   "metadata": {},
   "outputs": [],
   "source": [
    "# Read, sift and sort metadata\n",
    "metaData = dd.read_csv(metaFileStr).compute()\n",
    "metaData.sort_values (by=['sample_name'], inplace=True)\n",
    "metaData.reset_index(drop=True, inplace = True)"
   ]
  },
  {
   "cell_type": "code",
   "execution_count": null,
   "metadata": {
    "scrolled": true
   },
   "outputs": [],
   "source": [
    "metaData"
   ]
  },
  {
   "cell_type": "code",
   "execution_count": null,
   "metadata": {},
   "outputs": [],
   "source": [
    "# Read, sift and sort count data\n",
    "countData = dd.read_csv(countFileStr, usecols = geneSifterTuple).compute()"
   ]
  },
  {
   "cell_type": "code",
   "execution_count": null,
   "metadata": {},
   "outputs": [],
   "source": [
    "countData.sort_values (by=['sample_name'], inplace=True)\n",
    "countData.reset_index(drop=True, inplace = True)"
   ]
  },
  {
   "cell_type": "code",
   "execution_count": null,
   "metadata": {},
   "outputs": [],
   "source": [
    "countData"
   ]
  },
  {
   "cell_type": "code",
   "execution_count": null,
   "metadata": {},
   "outputs": [],
   "source": [
    "# Concatentate metadata and count data for all samples\n",
    "fullTable = pd.concat([metaData, countData], axis = 1)"
   ]
  },
  {
   "cell_type": "code",
   "execution_count": null,
   "metadata": {},
   "outputs": [],
   "source": [
    "fullTable"
   ]
  },
  {
   "cell_type": "code",
   "execution_count": null,
   "metadata": {},
   "outputs": [],
   "source": [
    "# Sift desired region rows\n",
    "regionsTuple = \"MOs;FRP\",\"MOp\"\n",
    "regionsTable = fullTable[fullTable[\"region_label\"].isin(regionsTuple)]\n",
    "regionsTable"
   ]
  },
  {
   "cell_type": "code",
   "execution_count": null,
   "metadata": {},
   "outputs": [],
   "source": [
    "# Write out desired region rows\n",
    "regionsStr = '_'.join(regionsTuple)\n",
    "outFileStr = \"/Users/stephens/Desktop/COiN Plasticity Evolves/Mouse/Yao21_10X_\"+regionsStr+\"_Sig-Gene_Table_01.csv\"\n",
    "regionsTable.to_csv(outFileStr)"
   ]
  },
  {
   "cell_type": "code",
   "execution_count": null,
   "metadata": {},
   "outputs": [],
   "source": [
    "client.shutdown()"
   ]
  },
  {
   "cell_type": "code",
   "execution_count": null,
   "metadata": {},
   "outputs": [],
   "source": []
  }
 ],
 "metadata": {
  "kernelspec": {
   "display_name": "Python 3",
   "language": "python",
   "name": "python3"
  },
  "language_info": {
   "codemirror_mode": {
    "name": "ipython",
    "version": 3
   },
   "file_extension": ".py",
   "mimetype": "text/x-python",
   "name": "python",
   "nbconvert_exporter": "python",
   "pygments_lexer": "ipython3",
   "version": "3.8.8"
  }
 },
 "nbformat": 4,
 "nbformat_minor": 4
}
