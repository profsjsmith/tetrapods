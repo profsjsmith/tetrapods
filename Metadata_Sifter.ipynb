{
 "cells": [
  {
   "cell_type": "code",
   "execution_count": 2,
   "metadata": {},
   "outputs": [
    {
     "name": "stderr",
     "output_type": "stream",
     "text": [
      "/Users/stephens/opt/anaconda3/lib/python3.7/site-packages/IPython/core/interactiveshell.py:3063: DtypeWarning: Columns (9) have mixed types.Specify dtype option on import or set low_memory=False.\n",
      "  interactivity=interactivity, compiler=compiler, result=result)\n"
     ]
    },
    {
     "name": "stdout",
     "output_type": "stream",
     "text": [
      "                       cell     UMAP_1     UMAP_2  nCount_RNA  nFeature_RNA  \\\n",
      "0      AAAGTCCCAGCAGGAT_1_1  -4.253294  11.140846        1852          1227   \n",
      "1      AAAGTCCTCACCACAA_1_1  -3.656170   9.279674        1304           954   \n",
      "2      AAAGTGAAGGGCCCTT_1_1  -4.330629   9.905583        2529          1431   \n",
      "3      AAAGTGATCCTTGAAG_1_1  -3.987387  10.785607        1797          1172   \n",
      "4      AACAAAGTCTGCATAG_1_1  -3.968226   9.587165        1616          1082   \n",
      "...                     ...        ...        ...         ...           ...   \n",
      "43781    TTTGTTGGTCCAGCAC_5   4.324666 -15.177166        2340          1254   \n",
      "43782    TTTGTTGGTCGCAACC_5  11.377954  -4.163551        1927          1132   \n",
      "43783    TTTGTTGTCAGCAGAG_5 -10.981455   4.041815        1997          1197   \n",
      "43784    TTTGTTGTCGTAGTCA_5  10.436544  -2.562790        1901          1055   \n",
      "43785    TTTGTTGTCTATTCGT_5  11.156054  -3.561034        2540          1288   \n",
      "\n",
      "      dataset region species cluster_orig  percent.mito  seurat_clusters  \n",
      "0      HVC_ZF    HVC      ZF        Astro      0.971922                4  \n",
      "1      HVC_ZF    HVC      ZF        Astro      0.920245                4  \n",
      "2      HVC_ZF    HVC      ZF        Astro      0.751285                4  \n",
      "3      HVC_ZF    HVC      ZF        Astro      1.057318                4  \n",
      "4      HVC_ZF    HVC      ZF        Astro      0.866337                4  \n",
      "...       ...    ...     ...          ...           ...              ...  \n",
      "43781       X      X      ZF            0      2.222222                3  \n",
      "43782       X      X      ZF            1      0.622730                2  \n",
      "43783       X      X      ZF           12      1.001502                8  \n",
      "43784       X      X      ZF            1      2.051552                2  \n",
      "43785       X      X      ZF            1      0.944882                2  \n",
      "\n",
      "[43786 rows x 11 columns]\n"
     ]
    }
   ],
   "source": [
    "import pandas as pd\n",
    "\n",
    "inFileStr = \"/Users/stephens/Desktop/Songbird/Project_downloads/HVC_RA_X/HVC_RA_X_counts.csv\"\n",
    "outFileStr = \"/Users/stephens/Desktop/Songbird/Project_derivatives/HVC_RA_X_metadata.csv\"\n",
    "metaStr = \"cell\",\"UMAP_1\",\"UMAP_2\",\"nCount_RNA\",\"nFeature_RNA\",\"dataset\",\"region\",\"species\",\"cluster_orig\",\"percent.mito\",\"seurat_clusters\"\n",
    "outputTable = pd.read_csv(inFileStr, usecols = metaStr)\n",
    "print (outputTable)\n",
    "outputTable.to_csv(outFileStr)"
   ]
  },
  {
   "cell_type": "code",
   "execution_count": null,
   "metadata": {},
   "outputs": [],
   "source": []
  }
 ],
 "metadata": {
  "kernelspec": {
   "display_name": "Python 3",
   "language": "python",
   "name": "python3"
  },
  "language_info": {
   "codemirror_mode": {
    "name": "ipython",
    "version": 3
   },
   "file_extension": ".py",
   "mimetype": "text/x-python",
   "name": "python",
   "nbconvert_exporter": "python",
   "pygments_lexer": "ipython3",
   "version": "3.8.8"
  }
 },
 "nbformat": 4,
 "nbformat_minor": 4
}
